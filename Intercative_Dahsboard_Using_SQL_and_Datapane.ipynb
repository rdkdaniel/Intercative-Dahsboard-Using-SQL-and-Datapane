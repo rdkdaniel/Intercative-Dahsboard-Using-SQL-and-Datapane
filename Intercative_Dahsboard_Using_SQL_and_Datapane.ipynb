{
  "nbformat": 4,
  "nbformat_minor": 0,
  "metadata": {
    "colab": {
      "name": "Intercative Dahsboard Using SQL and Datapane",
      "provenance": [],
      "authorship_tag": "ABX9TyPDdDRON+iWp79fpDDSjJPG",
      "include_colab_link": true
    },
    "kernelspec": {
      "name": "python3",
      "display_name": "Python 3"
    },
    "language_info": {
      "name": "python"
    }
  },
  "cells": [
    {
      "cell_type": "markdown",
      "metadata": {
        "id": "view-in-github",
        "colab_type": "text"
      },
      "source": [
        "<a href=\"https://colab.research.google.com/github/rdkdaniel/Intercative-Dahsboard-Using-SQL-and-Datapane/blob/main/Intercative_Dahsboard_Using_SQL_and_Datapane.ipynb\" target=\"_parent\"><img src=\"https://colab.research.google.com/assets/colab-badge.svg\" alt=\"Open In Colab\"/></a>"
      ]
    },
    {
      "cell_type": "code",
      "source": [
        "pip install -U datapane"
      ],
      "metadata": {
        "id": "NUWmvxFn5EfA",
        "outputId": "73013a55-ee65-4a87-ac26-948915c746da",
        "colab": {
          "base_uri": "https://localhost:8080/"
        }
      },
      "execution_count": 9,
      "outputs": [
        {
          "output_type": "stream",
          "name": "stdout",
          "text": [
            "Looking in indexes: https://pypi.org/simple, https://us-python.pkg.dev/colab-wheels/public/simple/\n",
            "Collecting datapane\n",
            "  Downloading datapane-0.14.0-py3-none-any.whl (2.6 MB)\n",
            "\u001b[K     |████████████████████████████████| 2.6 MB 5.0 MB/s \n",
            "\u001b[?25hCollecting furl<3.0.0,>=2.0.0\n",
            "  Downloading furl-2.1.3-py2.py3-none-any.whl (20 kB)\n",
            "Collecting click-spinner<0.2.0,>=0.1.8\n",
            "  Downloading click_spinner-0.1.10-py2.py3-none-any.whl (4.0 kB)\n",
            "Requirement already satisfied: requests<3.0.0,>=2.19.0 in /usr/local/lib/python3.7/dist-packages (from datapane) (2.23.0)\n",
            "Collecting posthog<2.0.0,>=1.4.0\n",
            "  Downloading posthog-1.4.9-py2.py3-none-any.whl (23 kB)\n",
            "Requirement already satisfied: nbconvert<7.0.0,>=5.6.1 in /usr/local/lib/python3.7/dist-packages (from datapane) (5.6.1)\n",
            "Collecting validators<0.19.0,>=0.18.0\n",
            "  Downloading validators-0.18.2-py3-none-any.whl (19 kB)\n",
            "Collecting stringcase<2.0.0,>=1.2.0\n",
            "  Downloading stringcase-1.2.0.tar.gz (3.0 kB)\n",
            "Collecting PyYAML<7.0.0,>=6.0.0\n",
            "  Downloading PyYAML-6.0-cp37-cp37m-manylinux_2_5_x86_64.manylinux1_x86_64.manylinux_2_12_x86_64.manylinux2010_x86_64.whl (596 kB)\n",
            "\u001b[K     |████████████████████████████████| 596 kB 52.7 MB/s \n",
            "\u001b[?25hCollecting micawber>=0.5.0\n",
            "  Downloading micawber-0.5.4.tar.gz (18 kB)\n",
            "Requirement already satisfied: packaging<22.0.0,>=20.0.0 in /usr/local/lib/python3.7/dist-packages (from datapane) (21.3)\n",
            "Requirement already satisfied: tabulate<0.9.0,>=0.8.0 in /usr/local/lib/python3.7/dist-packages (from datapane) (0.8.9)\n",
            "Collecting datacommons<2.0.0,>=1.4.3\n",
            "  Downloading datacommons-1.4.3-py3-none-any.whl (46 kB)\n",
            "\u001b[K     |████████████████████████████████| 46 kB 4.2 MB/s \n",
            "\u001b[?25hRequirement already satisfied: click<9.0.0,>=7.1.0 in /usr/local/lib/python3.7/dist-packages (from datapane) (7.1.2)\n",
            "Requirement already satisfied: pydantic<2.0.0,>=1.6.0 in /usr/local/lib/python3.7/dist-packages (from datapane) (1.8.2)\n",
            "Collecting requests-toolbelt<0.10.0,>=0.9.1\n",
            "  Downloading requests_toolbelt-0.9.1-py2.py3-none-any.whl (54 kB)\n",
            "\u001b[K     |████████████████████████████████| 54 kB 2.7 MB/s \n",
            "\u001b[?25hCollecting colorlog<7.0.0,>=4.1.0\n",
            "  Downloading colorlog-6.6.0-py2.py3-none-any.whl (11 kB)\n",
            "Collecting glom<21.0.0,>=20.5.0\n",
            "  Downloading glom-20.11.0-py2.py3-none-any.whl (97 kB)\n",
            "\u001b[K     |████████████████████████████████| 97 kB 7.8 MB/s \n",
            "\u001b[?25hRequirement already satisfied: altair<5.0.0,>=4.0.0 in /usr/local/lib/python3.7/dist-packages (from datapane) (4.2.0)\n",
            "Collecting boltons<22.0.0,>=20.0.0\n",
            "  Downloading boltons-21.0.0-py2.py3-none-any.whl (193 kB)\n",
            "\u001b[K     |████████████████████████████████| 193 kB 50.4 MB/s \n",
            "\u001b[?25hRequirement already satisfied: vega-datasets<1.0.0,>=0.9.0 in /usr/local/lib/python3.7/dist-packages (from datapane) (0.9.0)\n",
            "Requirement already satisfied: toolz<0.12.0,>=0.11.0 in /usr/local/lib/python3.7/dist-packages (from datapane) (0.11.2)\n",
            "Collecting datacommons-pandas<0.0.4,>=0.0.3\n",
            "  Downloading datacommons_pandas-0.0.3-py3-none-any.whl (45 kB)\n",
            "\u001b[K     |████████████████████████████████| 45 kB 3.4 MB/s \n",
            "\u001b[?25hCollecting munch<3.0.0,>=2.3.0\n",
            "  Downloading munch-2.5.0-py2.py3-none-any.whl (10 kB)\n",
            "Requirement already satisfied: pandas<2.0.0,>=1.1.0 in /usr/local/lib/python3.7/dist-packages (from datapane) (1.3.5)\n",
            "Requirement already satisfied: Jinja2<3.1.0,>=2.11.0 in /usr/local/lib/python3.7/dist-packages (from datapane) (2.11.3)\n",
            "Collecting dacite<2.0.0,>=1.0.2\n",
            "  Downloading dacite-1.6.0-py3-none-any.whl (12 kB)\n",
            "Collecting dominate<3.0.0,>=2.4.0\n",
            "  Downloading dominate-2.6.0-py2.py3-none-any.whl (29 kB)\n",
            "Requirement already satisfied: pyarrow<7.0.0,>=3.0.0 in /usr/local/lib/python3.7/dist-packages (from datapane) (6.0.1)\n",
            "Requirement already satisfied: lxml<5.0.0,>=4.0.0 in /usr/local/lib/python3.7/dist-packages (from datapane) (4.2.6)\n",
            "Requirement already satisfied: jsonschema<5.0.0,>=3.2.0 in /usr/local/lib/python3.7/dist-packages (from datapane) (4.3.3)\n",
            "Requirement already satisfied: chardet<5.0.0,>=3.0.4 in /usr/local/lib/python3.7/dist-packages (from datapane) (3.0.4)\n",
            "Requirement already satisfied: importlib_resources<6.0.0,>=3.0.0 in /usr/local/lib/python3.7/dist-packages (from datapane) (5.7.1)\n",
            "Requirement already satisfied: numpy in /usr/local/lib/python3.7/dist-packages (from altair<5.0.0,>=4.0.0->datapane) (1.21.6)\n",
            "Requirement already satisfied: entrypoints in /usr/local/lib/python3.7/dist-packages (from altair<5.0.0,>=4.0.0->datapane) (0.4)\n",
            "Requirement already satisfied: six in /usr/local/lib/python3.7/dist-packages (from datacommons<2.0.0,>=1.4.3->datapane) (1.15.0)\n",
            "Collecting orderedmultidict>=1.0.1\n",
            "  Downloading orderedmultidict-1.0.1-py2.py3-none-any.whl (11 kB)\n",
            "Collecting face>=20.1.0\n",
            "  Downloading face-20.1.1.tar.gz (46 kB)\n",
            "\u001b[K     |████████████████████████████████| 46 kB 4.1 MB/s \n",
            "\u001b[?25hRequirement already satisfied: attrs in /usr/local/lib/python3.7/dist-packages (from glom<21.0.0,>=20.5.0->datapane) (21.4.0)\n",
            "Requirement already satisfied: zipp>=3.1.0 in /usr/local/lib/python3.7/dist-packages (from importlib_resources<6.0.0,>=3.0.0->datapane) (3.8.0)\n",
            "Requirement already satisfied: MarkupSafe>=0.23 in /usr/local/lib/python3.7/dist-packages (from Jinja2<3.1.0,>=2.11.0->datapane) (2.0.1)\n",
            "Requirement already satisfied: typing-extensions in /usr/local/lib/python3.7/dist-packages (from jsonschema<5.0.0,>=3.2.0->datapane) (4.1.1)\n",
            "Requirement already satisfied: importlib-metadata in /usr/local/lib/python3.7/dist-packages (from jsonschema<5.0.0,>=3.2.0->datapane) (4.11.4)\n",
            "Requirement already satisfied: pyrsistent!=0.17.0,!=0.17.1,!=0.17.2,>=0.14.0 in /usr/local/lib/python3.7/dist-packages (from jsonschema<5.0.0,>=3.2.0->datapane) (0.18.1)\n",
            "Requirement already satisfied: testpath in /usr/local/lib/python3.7/dist-packages (from nbconvert<7.0.0,>=5.6.1->datapane) (0.6.0)\n",
            "Requirement already satisfied: jupyter-core in /usr/local/lib/python3.7/dist-packages (from nbconvert<7.0.0,>=5.6.1->datapane) (4.10.0)\n",
            "Requirement already satisfied: bleach in /usr/local/lib/python3.7/dist-packages (from nbconvert<7.0.0,>=5.6.1->datapane) (5.0.0)\n",
            "Requirement already satisfied: pygments in /usr/local/lib/python3.7/dist-packages (from nbconvert<7.0.0,>=5.6.1->datapane) (2.6.1)\n",
            "Requirement already satisfied: pandocfilters>=1.4.1 in /usr/local/lib/python3.7/dist-packages (from nbconvert<7.0.0,>=5.6.1->datapane) (1.5.0)\n",
            "Requirement already satisfied: nbformat>=4.4 in /usr/local/lib/python3.7/dist-packages (from nbconvert<7.0.0,>=5.6.1->datapane) (5.4.0)\n",
            "Requirement already satisfied: traitlets>=4.2 in /usr/local/lib/python3.7/dist-packages (from nbconvert<7.0.0,>=5.6.1->datapane) (5.1.1)\n",
            "Requirement already satisfied: mistune<2,>=0.8.1 in /usr/local/lib/python3.7/dist-packages (from nbconvert<7.0.0,>=5.6.1->datapane) (0.8.4)\n",
            "Requirement already satisfied: defusedxml in /usr/local/lib/python3.7/dist-packages (from nbconvert<7.0.0,>=5.6.1->datapane) (0.7.1)\n",
            "Requirement already satisfied: fastjsonschema in /usr/local/lib/python3.7/dist-packages (from nbformat>=4.4->nbconvert<7.0.0,>=5.6.1->datapane) (2.15.3)\n",
            "Requirement already satisfied: pyparsing!=3.0.5,>=2.0.2 in /usr/local/lib/python3.7/dist-packages (from packaging<22.0.0,>=20.0.0->datapane) (3.0.9)\n",
            "Requirement already satisfied: pytz>=2017.3 in /usr/local/lib/python3.7/dist-packages (from pandas<2.0.0,>=1.1.0->datapane) (2022.1)\n",
            "Requirement already satisfied: python-dateutil>=2.7.3 in /usr/local/lib/python3.7/dist-packages (from pandas<2.0.0,>=1.1.0->datapane) (2.8.2)\n",
            "Collecting monotonic>=1.5\n",
            "  Downloading monotonic-1.6-py2.py3-none-any.whl (8.2 kB)\n",
            "Collecting backoff<2.0.0,>=1.10.0\n",
            "  Downloading backoff-1.11.1-py2.py3-none-any.whl (13 kB)\n",
            "Requirement already satisfied: certifi>=2017.4.17 in /usr/local/lib/python3.7/dist-packages (from requests<3.0.0,>=2.19.0->datapane) (2022.6.15)\n",
            "Requirement already satisfied: idna<3,>=2.5 in /usr/local/lib/python3.7/dist-packages (from requests<3.0.0,>=2.19.0->datapane) (2.10)\n",
            "Requirement already satisfied: urllib3!=1.25.0,!=1.25.1,<1.26,>=1.21.1 in /usr/local/lib/python3.7/dist-packages (from requests<3.0.0,>=2.19.0->datapane) (1.24.3)\n",
            "Requirement already satisfied: decorator>=3.4.0 in /usr/local/lib/python3.7/dist-packages (from validators<0.19.0,>=0.18.0->datapane) (4.4.2)\n",
            "Requirement already satisfied: webencodings in /usr/local/lib/python3.7/dist-packages (from bleach->nbconvert<7.0.0,>=5.6.1->datapane) (0.5.1)\n",
            "Building wheels for collected packages: face, micawber, stringcase\n",
            "  Building wheel for face (setup.py) ... \u001b[?25l\u001b[?25hdone\n",
            "  Created wheel for face: filename=face-20.1.1-py3-none-any.whl size=51091 sha256=0ce4b9337c95a6aa086b49336d2605e75258fee436b5b0d342f7947e65589753\n",
            "  Stored in directory: /root/.cache/pip/wheels/67/03/c2/76d2e1e694852ce409ac2938b9f461bc0fdf3789901e7bb1f0\n",
            "  Building wheel for micawber (setup.py) ... \u001b[?25l\u001b[?25hdone\n",
            "  Created wheel for micawber: filename=micawber-0.5.4-py3-none-any.whl size=22373 sha256=39110c9a15473dd2214142dd3970c4ed2b31dfce2d6c82cf0ff6b8edf15372d4\n",
            "  Stored in directory: /root/.cache/pip/wheels/c1/b6/81/f8237c6061ac239fe1079fa35b445460b5ed090f5267fa3a37\n",
            "  Building wheel for stringcase (setup.py) ... \u001b[?25l\u001b[?25hdone\n",
            "  Created wheel for stringcase: filename=stringcase-1.2.0-py3-none-any.whl size=3587 sha256=880c5bc0a0e00fbe8ade7466001c631628ddfa6c75cf3bfe8ff6df605a8bd084\n",
            "  Stored in directory: /root/.cache/pip/wheels/86/ab/a3/a8fa7e0a07e80f547e03468c03827f8257f7339327986faed1\n",
            "Successfully built face micawber stringcase\n",
            "Installing collected packages: boltons, orderedmultidict, monotonic, face, backoff, validators, stringcase, requests-toolbelt, PyYAML, posthog, munch, micawber, glom, furl, dominate, datacommons-pandas, datacommons, dacite, colorlog, click-spinner, datapane\n",
            "  Attempting uninstall: PyYAML\n",
            "    Found existing installation: PyYAML 3.13\n",
            "    Uninstalling PyYAML-3.13:\n",
            "      Successfully uninstalled PyYAML-3.13\n",
            "Successfully installed PyYAML-6.0 backoff-1.11.1 boltons-21.0.0 click-spinner-0.1.10 colorlog-6.6.0 dacite-1.6.0 datacommons-1.4.3 datacommons-pandas-0.0.3 datapane-0.14.0 dominate-2.6.0 face-20.1.1 furl-2.1.3 glom-20.11.0 micawber-0.5.4 monotonic-1.6 munch-2.5.0 orderedmultidict-1.0.1 posthog-1.4.9 requests-toolbelt-0.9.1 stringcase-1.2.0 validators-0.18.2\n"
          ]
        }
      ]
    },
    {
      "cell_type": "code",
      "execution_count": 10,
      "metadata": {
        "id": "gAiWCrcGvdfW"
      },
      "outputs": [],
      "source": [
        "import sqlite3\n",
        "import pandas as pd\n",
        "import datapane as dp\n"
      ]
    },
    {
      "cell_type": "code",
      "source": [
        "db = 'chinook.db'\n",
        "\n",
        "def run_query(q):\n",
        "    with sqlite3.connect(db) as conn:\n",
        "        return pd.read_sql(q,conn)\n",
        "    \n",
        "def run_command(c):\n",
        "    with sqlite3.connect(db) as conn:\n",
        "        conn.isolation_level = None\n",
        "        conn.execute(c) \n",
        "        \n",
        "def show_tables():\n",
        "    q = '''\n",
        "        SELECT\n",
        "            name\n",
        "        FROM sqlite_master\n",
        "        WHERE type IN (\"table\",\"view\");\n",
        "        '''\n",
        "    return run_query(q)\n",
        "\n",
        "def get_table_row_count(tablename):\n",
        "    q = '''\n",
        "        SELECT\n",
        "            COUNT(1)\n",
        "        FROM %s;\n",
        "        ''' % tablename\n",
        "    return run_query(q)[\"COUNT(1)\"][0]\n",
        "\n",
        "tables = show_tables()\n",
        "tables[\"row_count\"] = [get_table_row_count(t) for t in tables[\"name\"]]"
      ],
      "metadata": {
        "id": "FUljTYJJwKD6"
      },
      "execution_count": 3,
      "outputs": []
    },
    {
      "cell_type": "code",
      "source": [
        "import datapane as dp \n",
        "\n",
        "top_10_tracks_query = '''\n",
        "SELECT \n",
        "    t.name trackname,\n",
        "    a.title album_title,\n",
        "    ar.name artist,\n",
        "    COUNT(*) as total_purchases,\n",
        "    SUM(il.unit_price) total_cost\n",
        "FROM track t \n",
        "JOIN album a on a.album_id = t.album_id\n",
        "JOIN artist ar on ar.artist_id = a.artist_id\n",
        "JOIN invoice_line il on il.track_id = t.track_id\n",
        "GROUP BY 1\n",
        "ORDER BY total_purchases desc\n",
        "LIMIT 10\n",
        "'''\n",
        "\n",
        "top_10_df = run_query(top_10_tracks)\n",
        "\n",
        "dp.Report(\n",
        "    dp.DataTable(top_10_df)\n",
        ").publish(name=\"Music Sales\")"
      ],
      "metadata": {
        "id": "rdPdxiiLwpyo",
        "outputId": "8acc9315-cb84-41f8-dad6-ef9509b96ce9",
        "colab": {
          "base_uri": "https://localhost:8080/",
          "height": 241
        }
      },
      "execution_count": 11,
      "outputs": [
        {
          "output_type": "error",
          "ename": "NameError",
          "evalue": "ignored",
          "traceback": [
            "\u001b[0;31m---------------------------------------------------------------------------\u001b[0m",
            "\u001b[0;31mNameError\u001b[0m                                 Traceback (most recent call last)",
            "\u001b[0;32m<ipython-input-11-f1ed32032112>\u001b[0m in \u001b[0;36m<module>\u001b[0;34m()\u001b[0m\n\u001b[1;32m     17\u001b[0m '''\n\u001b[1;32m     18\u001b[0m \u001b[0;34m\u001b[0m\u001b[0m\n\u001b[0;32m---> 19\u001b[0;31m \u001b[0mtop_10_df\u001b[0m \u001b[0;34m=\u001b[0m \u001b[0mrun_query\u001b[0m\u001b[0;34m(\u001b[0m\u001b[0mtop_10_tracks\u001b[0m\u001b[0;34m)\u001b[0m\u001b[0;34m\u001b[0m\u001b[0;34m\u001b[0m\u001b[0m\n\u001b[0m\u001b[1;32m     20\u001b[0m \u001b[0;34m\u001b[0m\u001b[0m\n\u001b[1;32m     21\u001b[0m dp.Report(\n",
            "\u001b[0;31mNameError\u001b[0m: name 'top_10_tracks' is not defined"
          ]
        }
      ]
    },
    {
      "cell_type": "code",
      "source": [
        "#What is datapane?\n",
        "#What is SQLite?\n",
        "#Link to python?"
      ],
      "metadata": {
        "id": "vrvUEZOt4CYi"
      },
      "execution_count": 12,
      "outputs": []
    }
  ]
}